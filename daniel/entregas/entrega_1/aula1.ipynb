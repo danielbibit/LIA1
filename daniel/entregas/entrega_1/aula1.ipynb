{
  "cells": [
    {
      "cell_type": "markdown",
      "metadata": {
        "id": "view-in-github",
        "colab_type": "text"
      },
      "source": [
        "<a href=\"https://colab.research.google.com/github/danielbibit/LIA1/blob/main/daniel/aula1.ipynb\" target=\"_parent\"><img src=\"https://colab.research.google.com/assets/colab-badge.svg\" alt=\"Open In Colab\"/></a>"
      ]
    },
    {
      "cell_type": "markdown",
      "id": "577102d4-46eb-467d-9239-36177239d4ef",
      "metadata": {
        "tags": [],
        "id": "577102d4-46eb-467d-9239-36177239d4ef"
      },
      "source": [
        "\n",
        "<hr style=\"height:10px\"> \n",
        " \n",
        "<div class='container2'>\n",
        "\t<div style='padding: 0 7em 2em 12em;'>\n",
        "\t<h1>Laboratório de Inovação e Automação 1 (LIA 1)</h1>\n",
        "\t<div style=\"font-size:12pt;float:left;\"> 2023/1 | 46M34 | Sala 200 CAE</div><br><br>\n",
        "    <div style=\"font-size:12pt;float:left;\"><b>Projetos de Inteligência Artificial</b></div>\n",
        "\t</div>\n",
        "</div>\n",
        "\n",
        "\n",
        " <hr style=\"height:5px\"> \n",
        "\n",
        "    \n",
        "<h2>Introdução ao Ambiente de Projetos</h2>\n",
        "\n",
        "Notebook desenvolvido por: <a href=\"http://lattes.cnpq.br/1346824250595330\">Prof. Dr. Adriano C. Santana</a>\n",
        "\n",
        " <hr style=\"height:2px\">"
      ]
    },
    {
      "cell_type": "code",
      "source": [
        "from google.colab import drive\n",
        "drive.mount('/content/drive')"
      ],
      "metadata": {
        "colab": {
          "base_uri": "https://localhost:8080/"
        },
        "id": "flCz4-nemzaK",
        "outputId": "744add53-aa50-47cb-f863-21e2cb94037c"
      },
      "id": "flCz4-nemzaK",
      "execution_count": 25,
      "outputs": [
        {
          "output_type": "stream",
          "name": "stdout",
          "text": [
            "Drive already mounted at /content/drive; to attempt to forcibly remount, call drive.mount(\"/content/drive\", force_remount=True).\n"
          ]
        }
      ]
    },
    {
      "cell_type": "code",
      "execution_count": 26,
      "id": "57f7fade-2a05-4bf9-a941-20ba0ef537cc",
      "metadata": {
        "tags": [],
        "id": "57f7fade-2a05-4bf9-a941-20ba0ef537cc"
      },
      "outputs": [],
      "source": [
        "from platform import python_version"
      ]
    },
    {
      "cell_type": "code",
      "execution_count": 27,
      "id": "f7cc1b2f-356c-4c19-af2f-99fc5d7eeb5b",
      "metadata": {
        "tags": [],
        "colab": {
          "base_uri": "https://localhost:8080/"
        },
        "id": "f7cc1b2f-356c-4c19-af2f-99fc5d7eeb5b",
        "outputId": "5d6c787a-01cb-46c6-d702-61ee6e624321"
      },
      "outputs": [
        {
          "output_type": "stream",
          "name": "stdout",
          "text": [
            "A sua versão é: 3.10.11\n"
          ]
        }
      ],
      "source": [
        "python_version()\n",
        "print('A sua versão é: ' + python_version())"
      ]
    },
    {
      "cell_type": "code",
      "execution_count": 28,
      "id": "c9352f1e-9a77-416b-a420-f17558526283",
      "metadata": {
        "colab": {
          "base_uri": "https://localhost:8080/"
        },
        "id": "c9352f1e-9a77-416b-a420-f17558526283",
        "outputId": "733e0da9-afd8-42de-e432-e8d70afe5208"
      },
      "outputs": [
        {
          "output_type": "stream",
          "name": "stdout",
          "text": [
            "Hello world\n"
          ]
        }
      ],
      "source": [
        "print('Hello world')"
      ]
    },
    {
      "cell_type": "code",
      "execution_count": 29,
      "id": "a4fb7ebb-370d-46f7-a759-af4117847521",
      "metadata": {
        "colab": {
          "base_uri": "https://localhost:8080/"
        },
        "id": "a4fb7ebb-370d-46f7-a759-af4117847521",
        "outputId": "4d54b0cc-f3fb-4372-8e54-ceb9956cc1d4"
      },
      "outputs": [
        {
          "output_type": "execute_result",
          "data": {
            "text/plain": [
              "2"
            ]
          },
          "metadata": {},
          "execution_count": 29
        }
      ],
      "source": [
        "# Adição\n",
        "1+1"
      ]
    },
    {
      "cell_type": "code",
      "execution_count": 30,
      "id": "c4776602-9560-4e04-8997-70f1e461dae4",
      "metadata": {
        "colab": {
          "base_uri": "https://localhost:8080/"
        },
        "id": "c4776602-9560-4e04-8997-70f1e461dae4",
        "outputId": "916d22bf-6bd2-4cab-9b6f-f2aa4042e634"
      },
      "outputs": [
        {
          "output_type": "execute_result",
          "data": {
            "text/plain": [
              "1"
            ]
          },
          "metadata": {},
          "execution_count": 30
        }
      ],
      "source": [
        "# Subtração\n",
        "2-1"
      ]
    },
    {
      "cell_type": "code",
      "execution_count": 31,
      "id": "6f070d90-a629-4f07-ac0a-09fa53ba1988",
      "metadata": {
        "colab": {
          "base_uri": "https://localhost:8080/"
        },
        "id": "6f070d90-a629-4f07-ac0a-09fa53ba1988",
        "outputId": "cde42037-4274-4095-e1c5-d43cb240543d"
      },
      "outputs": [
        {
          "output_type": "execute_result",
          "data": {
            "text/plain": [
              "4"
            ]
          },
          "metadata": {},
          "execution_count": 31
        }
      ],
      "source": [
        "# Multiplicação\n",
        "2*2"
      ]
    },
    {
      "cell_type": "code",
      "execution_count": 32,
      "id": "48ba2e12-0286-4ce2-8822-9e100f961d9b",
      "metadata": {
        "colab": {
          "base_uri": "https://localhost:8080/"
        },
        "id": "48ba2e12-0286-4ce2-8822-9e100f961d9b",
        "outputId": "325e46b4-78d5-439d-b964-c5d7e935ddeb"
      },
      "outputs": [
        {
          "output_type": "execute_result",
          "data": {
            "text/plain": [
              "1.5"
            ]
          },
          "metadata": {},
          "execution_count": 32
        }
      ],
      "source": [
        "# Divisão\n",
        "3/2"
      ]
    },
    {
      "cell_type": "code",
      "execution_count": 33,
      "id": "e52e6b31-fed5-4771-8bbe-993b5e386f37",
      "metadata": {
        "colab": {
          "base_uri": "https://localhost:8080/"
        },
        "id": "e52e6b31-fed5-4771-8bbe-993b5e386f37",
        "outputId": "3c784d68-2ac2-4696-d5c8-f8bfe3ac56b1"
      },
      "outputs": [
        {
          "output_type": "execute_result",
          "data": {
            "text/plain": [
              "16"
            ]
          },
          "metadata": {},
          "execution_count": 33
        }
      ],
      "source": [
        "# Potência\n",
        "4 ** 2"
      ]
    },
    {
      "cell_type": "code",
      "execution_count": 34,
      "id": "f2f31ce0-7909-48ed-bcfa-779b74222656",
      "metadata": {
        "colab": {
          "base_uri": "https://localhost:8080/"
        },
        "id": "f2f31ce0-7909-48ed-bcfa-779b74222656",
        "outputId": "048d2e20-f706-40cb-d9c7-0cc72f0b187a"
      },
      "outputs": [
        {
          "output_type": "execute_result",
          "data": {
            "text/plain": [
              "1"
            ]
          },
          "metadata": {},
          "execution_count": 34
        }
      ],
      "source": [
        "# Módulo\n",
        "10 % 3"
      ]
    },
    {
      "cell_type": "markdown",
      "id": "aa3ae2c0",
      "metadata": {
        "id": "aa3ae2c0"
      },
      "source": [
        "## Tipos de dados( type )"
      ]
    },
    {
      "cell_type": "code",
      "execution_count": 35,
      "id": "c7e66ba4",
      "metadata": {
        "colab": {
          "base_uri": "https://localhost:8080/"
        },
        "id": "c7e66ba4",
        "outputId": "f434a06c-0dca-471b-fbc4-370adc363a84"
      },
      "outputs": [
        {
          "output_type": "execute_result",
          "data": {
            "text/plain": [
              "int"
            ]
          },
          "metadata": {},
          "execution_count": 35
        }
      ],
      "source": [
        "type(5)"
      ]
    },
    {
      "cell_type": "code",
      "execution_count": 36,
      "id": "08475c19",
      "metadata": {
        "colab": {
          "base_uri": "https://localhost:8080/"
        },
        "id": "08475c19",
        "outputId": "a0389402-951b-49a6-99ec-ecbf3830ba26"
      },
      "outputs": [
        {
          "output_type": "execute_result",
          "data": {
            "text/plain": [
              "float"
            ]
          },
          "metadata": {},
          "execution_count": 36
        }
      ],
      "source": [
        "type(5.0)"
      ]
    },
    {
      "cell_type": "code",
      "execution_count": 37,
      "id": "82efb1fb",
      "metadata": {
        "colab": {
          "base_uri": "https://localhost:8080/"
        },
        "id": "82efb1fb",
        "outputId": "a1095353-a558-446f-bf12-470b09c72aef"
      },
      "outputs": [
        {
          "output_type": "execute_result",
          "data": {
            "text/plain": [
              "str"
            ]
          },
          "metadata": {},
          "execution_count": 37
        }
      ],
      "source": [
        "a = 'Estudando python'\n",
        "type(a)"
      ]
    },
    {
      "cell_type": "markdown",
      "id": "4aea9247",
      "metadata": {
        "id": "4aea9247"
      },
      "source": [
        "## Condicional if"
      ]
    },
    {
      "cell_type": "code",
      "execution_count": 38,
      "id": "657dc2f0",
      "metadata": {
        "id": "657dc2f0"
      },
      "outputs": [],
      "source": [
        "# Condicional if\n",
        "if 5 < 2:\n",
        "    print(\"A sentença é verdadeira\")"
      ]
    },
    {
      "cell_type": "code",
      "execution_count": 39,
      "id": "80e55855",
      "metadata": {
        "colab": {
          "base_uri": "https://localhost:8080/"
        },
        "id": "80e55855",
        "outputId": "d9806ad2-515e-47d9-f729-240b9881a8ef"
      },
      "outputs": [
        {
          "output_type": "stream",
          "name": "stdout",
          "text": [
            "A sentença é falsa\n"
          ]
        }
      ],
      "source": [
        "# Condicional if...else\n",
        "if 5 < 2:\n",
        "    print(\"A sentença é verdadeira!\") \n",
        "else:\n",
        "    print(\"A sentença é falsa\")\n"
      ]
    },
    {
      "cell_type": "code",
      "execution_count": 40,
      "id": "e6bec9bf",
      "metadata": {
        "tags": [],
        "colab": {
          "base_uri": "https://localhost:8080/"
        },
        "id": "e6bec9bf",
        "outputId": "14e552c1-d6f5-44b2-ccef-6d2c8b63268c"
      },
      "outputs": [
        {
          "output_type": "stream",
          "name": "stdout",
          "text": [
            "Hoje vai chover!\n"
          ]
        }
      ],
      "source": [
        "# Condicional if...else com variável\n",
        "dia = \"Quarta-feira\"\n",
        "\n",
        "if dia == \"Sexta-feira\":\n",
        "    print(\"Hoje fará sol!\")\n",
        "else:\n",
        "    print(\"Hoje vai chover!\")"
      ]
    },
    {
      "cell_type": "markdown",
      "id": "55dc8260",
      "metadata": {
        "id": "55dc8260"
      },
      "source": [
        "## Lendo arquivos (.txt)"
      ]
    },
    {
      "cell_type": "code",
      "execution_count": 41,
      "id": "af3cce16",
      "metadata": {
        "tags": [],
        "colab": {
          "base_uri": "https://localhost:8080/"
        },
        "id": "af3cce16",
        "outputId": "11a14155-b7b7-413b-d124-6c98986bef4d"
      },
      "outputs": [
        {
          "output_type": "stream",
          "name": "stdout",
          "text": [
            "any file here\n",
            "\n"
          ]
        }
      ],
      "source": [
        "# Abrindo o arquivo para leitura\n",
        "a1 = open(\"/content/drive/MyDrive/Colab Notebooks/file.txt\", \"r\")\n",
        "\n",
        "# Lendo o arquivo\n",
        "print(a1.read())"
      ]
    },
    {
      "cell_type": "code",
      "execution_count": 42,
      "id": "f737e440-85e0-4782-803c-3c09f4d50135",
      "metadata": {
        "tags": [],
        "colab": {
          "base_uri": "https://localhost:8080/"
        },
        "id": "f737e440-85e0-4782-803c-3c09f4d50135",
        "outputId": "31f132a2-45b7-425a-d6fe-c04af6c97e82"
      },
      "outputs": [
        {
          "output_type": "stream",
          "name": "stdout",
          "text": [
            "Aprendendo python!\n"
          ]
        }
      ],
      "source": [
        "# Abrindo o arquivo para gravação\n",
        "a2 = open(\"/content/drive/MyDrive/Colab Notebooks/file2.txt\", \"w\")\n",
        "a2.write(\"Aprendendo python!\")\n",
        "\n",
        "a2 = open(\"/content/drive/MyDrive/Colab Notebooks/file2.txt\", \"r\")\n",
        "\n",
        "print(a2.read())"
      ]
    }
  ],
  "metadata": {
    "kernelspec": {
      "display_name": "Python 3 (ipykernel)",
      "language": "python",
      "name": "python3"
    },
    "language_info": {
      "codemirror_mode": {
        "name": "ipython",
        "version": 3
      },
      "file_extension": ".py",
      "mimetype": "text/x-python",
      "name": "python",
      "nbconvert_exporter": "python",
      "pygments_lexer": "ipython3",
      "version": "3.10.10"
    },
    "colab": {
      "provenance": [],
      "include_colab_link": true
    }
  },
  "nbformat": 4,
  "nbformat_minor": 5
}